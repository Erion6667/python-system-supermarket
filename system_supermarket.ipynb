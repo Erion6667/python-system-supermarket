{
  "cells": [
    {
      "cell_type": "code",
      "execution_count": null,
      "metadata": {
        "id": "juyYYHabS-Cd"
      },
      "outputs": [],
      "source": [
        "#Sistem Supermarket\n",
        "def view_items():\n",
        "    print('------------------View Items------------------')\n",
        "    print('Jumlah item dalam penyimpanan adalah : ', len(items))\n",
        "    while len(items) != 0:\n",
        "        print('Berikut adalah semua barang yang tersedia di supermarket.')\n",
        "        for item in items:\n",
        "            for key, value in item.items():\n",
        "                print(key, ':', value)\n",
        "        break\n",
        "\n",
        "def add_items():\n",
        "    print('------------------Add items------------------')\n",
        "    print('Untuk menambahkan barang, isi data berikut')\n",
        "    item = {}\n",
        "    item['name'] = input('nama barang : ')\n",
        "    while True:\n",
        "        try:\n",
        "            item['quantity'] = int(input('jumlah barang : '))\n",
        "            break\n",
        "        except ValueError:\n",
        "            print('Jumlah barang hanya boleh dalam digit')\n",
        "    while True:\n",
        "        try:\n",
        "            item['price'] = int(input('Harga(Rp) : '))\n",
        "            break\n",
        "        except ValueError:\n",
        "            print('Harga hanya boleh dalam digit')\n",
        "    print('barang telah berhasil ditambahkan.')\n",
        "    items.append(item)\n",
        "\n",
        "def purchase_items():\n",
        "    print('------------------purchase items------------------')\n",
        "    print(items)\n",
        "    purchase_item = input('Masukkan nama barang yang ingin Anda beli? : ')\n",
        "    for item in items:\n",
        "        if purchase_item.lower() == item['name'].lower() :\n",
        "            if item['quantity'] != 0 :\n",
        "                purchase_quantity=int(input(\"Berapa jumlah barang yang dibeli: \"))\n",
        "                item['quantity'] -= purchase_quantity\n",
        "                multiply=item['price']*purchase_quantity\n",
        "                pay.append(multiply)\n",
        "            else:\n",
        "                print('Barang kehabisan stok.')\n",
        "\n",
        "def search_items():\n",
        "    print('------------------search items------------------')\n",
        "    find_item = input('Masukkan nama barang yang dicari : ')\n",
        "    for item in items:\n",
        "        if item['name'].lower() == find_item.lower():\n",
        "            print('nama barang ' + find_item + ' sebagai berikut')\n",
        "            print(item)\n",
        "        else:\n",
        "            print('barang tidak ditemukan.')\n",
        "\n",
        "def add(op1, op2):\n",
        "  return op1 + op2 \n",
        "\n",
        "from functools import reduce   \n",
        "items = []\n",
        "pay = []\n",
        "while True:\n",
        "    display = input('Tekan enter untuk melanjutkan.')\n",
        "    print('------------------Selamat datang di supermarket------------------')\n",
        "    print('1. Menampilkan barang\\n2. Menambahkan barang-barang untuk dijual\\n3. Membeli barang\\n4. Cari barang \\n5. Selesai')\n",
        "    choice = input('Masukkan nomor pilihan Anda : ')\n",
        "\n",
        "    hasil = lambda choice: view_items() if choice == '1' else (add_items() if choice == '2' else (\n",
        "        purchase_items() if choice == '3' else (search_items() if choice == '4' else 'Nomer yang Anda memasukkan tidak sesuai ')))\n",
        "\n",
        "    if choice == '5':\n",
        "        print('------------------exited------------------')\n",
        "        break\n",
        "\n",
        "    print(hasil(choice))\n",
        "    \n",
        "result = reduce(add, pay)\n",
        "print('Silahkan membayar seharga RP.' ,result, 'di meja kasir') \n",
        "    "
      ]
    },
    {
      "cell_type": "markdown",
      "metadata": {
        "id": "QBNQAbANTFkY"
      },
      "source": [
        "**User Defined Function view_items()**\n",
        "Fungsi ini bertujuan untuk menampilkan barang apa saja yang telah disimpan oleh user. Fungsi ini terdapat looping dengan kondisi ketika len(items) tidak sama dengan 0 maka akan menampilkan barang yang ada pada variabel item.\n",
        "\n",
        "**User Defined Function add_items()**\n",
        "Fungsi ini bertujuan untuk menambahkan barang oleh user ke variabel item. Fungsi ini terdapat input nama barang dari user. Setelah itu terdapat looping dengan kondisi input jumlah barang dengan type integer dan apabila bukan integer akan value eror, ada juga input harga dengan type integer dan apabila bukan integer akan value eror. Ketika input barang sudah selesai datanya akan ditambahkan ke-list items.\n",
        "\n",
        "**User Defined Function purchase_items()**\n",
        "Fungsi ini bertujuan untuk mengurangi jumlah barang dan menentukan berapa total dari barang yang telah dibeli oleh user. Fungsi ini terdapat looping dengan kondisi menyocokkan nama barang yang diinput oleh user dengan data dari list item, ketika nama keduanya sama dan ketika jumlah datanya tidak sama dengan 0 maka user bisa input berapa jumlah barang yang akan dibeli. ketika input user jumlah barang sudah selesai maka akan kuluar berapa jumlah yang harus dibayar oleh user. \n",
        "\n",
        "**User Defined Function search_items()**\n",
        "Fungsi ini bertujuan untuk mencari barang dari nama barang yang diinput oleh user. Fungsi ini terdapat looping dengan kondisi menyocokkan nama barang yang diinput oleh user dengan data dari list item, ketika nama keduanya sama maka akan ditampilkan nama, jumlah, dan harga dari data yang sesuai dengan input user.\n",
        "\n",
        "**User Defined Function add()**\n",
        "Fungsi ini bertujuan untuk menjumlahkan harga-harga dari barang yang sudah dibeli oleh user.\n",
        "\n",
        "**Code**\n",
        "Code ini bertujuan untuk memberikan 5 pilihan kepada user tentang bagaimana pengolahan data di supermarket. Kode ini terdapat looping untuk mengulangi apa saja yang dilakukanoleh user, terdapat juga input untuk menentukan pilihan apa yang ingin dilakaukan oleh user. Ketika user memilih no.1, maka akan menjalankan user defined function viuw_barang, no.2 menjalankan user defined function add_items, no.3 menjalankan user defined function purchase_items, no.4 menjalankan user defined function search_items, no.5  untuk menghentikan looping. Terkahir, ketika looping sudah berhenti terdapat variable result yang berisi Higher order function reduce degan tujuan untuk menghitung jumlah total pembelian dari user."
      ]
    }
  ],
  "metadata": {
    "colab": {
      "provenance": []
    },
    "kernelspec": {
      "display_name": "Python 3",
      "language": "python",
      "name": "python3"
    },
    "language_info": {
      "name": "python",
      "version": "3.10.10"
    },
    "vscode": {
      "interpreter": {
        "hash": "7bf0edd1501ce2b3472d7be48a7406131df6e9ee3bbb1a68005706b76c6c5420"
      }
    }
  },
  "nbformat": 4,
  "nbformat_minor": 0
}
